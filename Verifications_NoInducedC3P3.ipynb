{
 "cells": [
  {
   "cell_type": "code",
   "execution_count": 1,
   "metadata": {},
   "outputs": [
    {
     "data": {
      "text/plain": [
       "112"
      ]
     },
     "execution_count": 1,
     "metadata": {},
     "output_type": "execute_result"
    }
   ],
   "source": [
    "#In this file, we give the verification to show that if G\\T has correspondence packing number bounded by 4 \n",
    "#(where T is an induced P_3 or C_3 whose vertices have degree at most 3), so does G.\n",
    "\n",
    "#First we define a few functions and make some useful precomputations \n",
    "\n",
    "#list with all permutations of {1,2,3,4}\n",
    "from itertools import permutations\n",
    "L1 = list(permutations(range(1, 5)))\n",
    "\n",
    "# compute intersection of two lists\n",
    "def intersection(lst1, lst2):\n",
    "    return list(set(lst1) & set(lst2))\n",
    "\n",
    "#function that returns all derangements of a list \n",
    "#Here a derangement is a permutation for which no element remains at the same spot\n",
    "def derangements(L):\n",
    "    return ( perm for perm in permutations(L)\n",
    "             if all(p != L[indx] for indx, p in enumerate(perm)) )\n",
    "\n",
    "#dictionary with the lists of all derangements of L1\n",
    "dict1={};\n",
    "for L in L1:\n",
    "    dict1[L]=list(derangements(L))\n",
    "    \n",
    "#Computes the relative partial packing of a neighbour with partial packing \"a\" and matching s in between\n",
    "def perm(a,s):\n",
    "    return (a[s[0]],a[s[1]],a[s[2]],a[s[3]])\n",
    "\n",
    "#Here we compute all bad combinations of possible colourings/ derangements of the neighbours of the vertices u and v, \n",
    "#where wlog we assume that u_1 had colouring {1,2,3,4}=L1[0].\n",
    "#Switching the colourings for v_1 and v_2 of course also leads to a bad combination, but for clarity we omit this factor 2 improvement\n",
    "\n",
    "M=[];\n",
    "S2=set();\n",
    "\n",
    "for i in range(0,24):\n",
    "    for j in range(0,24):\n",
    "        for k in range(0,24):\n",
    "            poss=False;\n",
    "            for U in intersection(dict1[L1[0]],dict1[L1[i]]):\n",
    "                for V in intersection(dict1[L1[j]],dict1[L1[k]]):\n",
    "                    if U[0]!=V[0] and U[1]!=V[1] and U[2]!=V[2] and U[3]!=V[3]:\n",
    "                        poss=True;\n",
    "                        \n",
    "            if poss==False:\n",
    "                M.append([L1[i],L1[j],L1[k]]);\n",
    "                S2.add(L1[i]);\n",
    "M\n",
    "\n",
    "len(M)\n"
   ]
  },
  {
   "cell_type": "code",
   "execution_count": 2,
   "metadata": {},
   "outputs": [
    {
     "data": {
      "text/plain": [
       "{0: 0, 1: 0, 2: 0, 3: 0, 4: 0, 5: 13}"
      ]
     },
     "execution_count": 2,
     "metadata": {},
     "output_type": "execute_result"
    }
   ],
   "source": [
    "#Case uvw form a triangle, and each has one neighbour.\n",
    "#we cannot assume an identity matching on the 3 sides, and so let s be any of the possible matchings\n",
    "#Given the partial packing in v1 and w1, we count the number of choices for the permutation of w such that the partial\n",
    "#packing can be extended in both u and v. It turns out that no matter the choice of the \n",
    "#partial colouring of w1, v1 and the choice of matchings on the triangle (s), there are at least 5 choices for w such that the partial packing can be extended in u and v \n",
    "\n",
    "#counter is a dictionary that keeps track of the number of situations with at most 5 choices for the extension of the partial packing in w for which the partial packing can be extended\n",
    "#The latter is counted with Ok\n",
    "\n",
    "counter={0:0,1:0,2:0,3:0,4:0,5:0};              \n",
    "for s in [(0,1,2,3),(1,0,2,3),(1,2,0,3),(1,0,3,2),(1,2,3,0)]:\n",
    "    for v1 in L1:\n",
    "        for w1 in L1:\n",
    "            Ok=0\n",
    "            for w in dict1[w1]:\n",
    "                if [perm(w,s),v1,w] not in M:\n",
    "                    Ok+=1;\n",
    "            if Ok<6:\n",
    "                counter[Ok]+=1;\n",
    "            \n",
    "counter"
   ]
  },
  {
   "cell_type": "code",
   "execution_count": 3,
   "metadata": {},
   "outputs": [
    {
     "name": "stdout",
     "output_type": "stream",
     "text": [
      "(2, 3, 1, 4) (2, 3, 1, 4) (3, 1, 2, 4) (1, 2, 0, 3)\n"
     ]
    },
    {
     "data": {
      "text/plain": [
       "{0: 1, 1: 204, 2: 8745, 3: 11522, 4: 12648, 5: 0}"
      ]
     },
     "execution_count": 3,
     "metadata": {},
     "output_type": "execute_result"
    }
   ],
   "source": [
    "#Case uvw form a triangle\n",
    "#w has degree 4 and u,v degree 3. Here it turns out that there is a unique case for which the extension does not work greedily.\n",
    "#If some \"unique\" neighbour has degree 3, one can still circumvent the bad situation as such.\n",
    "\n",
    "counter={0:0,1:0,2:0,3:0,4:0,5:0};              \n",
    "for s in [(0,1,2,3),(1,0,2,3),(1,2,0,3),(1,0,3,2),(1,2,3,0)]:\n",
    "    for v1 in L1:\n",
    "        for (w1,w2) in Combinations(L1,2):\n",
    "            Ok=0\n",
    "            for w in intersection(dict1[w1],dict1[w2]):\n",
    "                if [perm(w,s),v1,w] not in M:\n",
    "                    Ok+=1;\n",
    "            if Ok<6:\n",
    "                counter[Ok]+=1;\n",
    "            if Ok==0:\n",
    "                print(v1,w1,w2,s)\n",
    "            \n",
    "counter"
   ]
  },
  {
   "cell_type": "code",
   "execution_count": 4,
   "metadata": {},
   "outputs": [
    {
     "name": "stdout",
     "output_type": "stream",
     "text": [
      "2.121565818786621\n"
     ]
    },
    {
     "data": {
      "text/plain": [
       "{0: 0, 1: 408, 2: 20064, 3: 26904, 4: 28800}"
      ]
     },
     "execution_count": 4,
     "metadata": {},
     "output_type": "execute_result"
    }
   ],
   "source": [
    "#For the vertices w,u,v (in this order), from a partial packing of their 5 neighbours, we conclude that we always can extend to a partial packing.\n",
    "#Again, we count the number of choices for c(w) that can be completed, and note that it is always at least one.\n",
    "#The time has been measured as well; the proof takes only a few seconds.\n",
    "\n",
    "import time\n",
    "x=time.time()\n",
    "counter={0:0,1:0,2:0,3:0,4:0};\n",
    "for (v1,v2) in Combinations(L1,2):\n",
    "    for (w1,w2)  in Combinations(L1,2):\n",
    "        Ok=0;\n",
    "        for w in intersection(dict1[w1],dict1[w2]):\n",
    "            if [w,v1,v2] not in M:\n",
    "                Ok+=1;\n",
    "        if Ok<5:\n",
    "            counter[Ok]+=1;\n",
    "y=time.time()\n",
    "print(y-x)\n",
    "counter"
   ]
  },
  {
   "cell_type": "code",
   "execution_count": 5,
   "metadata": {},
   "outputs": [],
   "source": [
    "\n"
   ]
  },
  {
   "cell_type": "code",
   "execution_count": 11,
   "metadata": {},
   "outputs": [
    {
     "data": {
      "text/plain": [
       "15"
      ]
     },
     "execution_count": 11,
     "metadata": {},
     "output_type": "execute_result"
    }
   ],
   "source": [
    "#The list M contains all bad triples of neighbours for which an extension in an induced P_2 {u,v} of degree-3 vertices is not possible\n",
    "#when considering the 4 neighbours as distinct and assuming that all matchings are identity matchings, and c(u_1)=(1,2,3,4)\n",
    "#Here we collect the (15) possible values for c(v_1) and c\n",
    "\n",
    "R=[]\n",
    "for m in M:\n",
    "    if m[1] not in R:\n",
    "        R.append(m[1])\n",
    "len(R)"
   ]
  },
  {
   "cell_type": "code",
   "execution_count": 12,
   "metadata": {},
   "outputs": [
    {
     "data": {
      "text/plain": [
       "{0: 0, 1: 0, 2: 6, 3: 8, 4: 9, 9: 1}"
      ]
     },
     "execution_count": 12,
     "metadata": {},
     "output_type": "execute_result"
    }
   ],
   "source": [
    "#when the neighbour v_1 of v has already one prepacked neighbour, c(v_1) needs to be a (relative) derangement of that prepacked vertex\n",
    "#Among the 9 choices, we check that there is one choice such that {u,v} can be extended to a packing at the end,\n",
    "#as there are at least two of them for which c(v_1) is not among the forbidden choices in M (the entry m[1] for any m in M)\n",
    "\n",
    "\n",
    "counter={0:0,1:0,2:0,3:0,4:0,9:0};\n",
    "for x in L1:\n",
    "    Ok=0\n",
    "    for y in dict1[x]:\n",
    "        if y not in R:\n",
    "            Ok+=1\n",
    "    counter[Ok]+=1;\n",
    "counter"
   ]
  },
  {
   "cell_type": "code",
   "execution_count": null,
   "metadata": {},
   "outputs": [],
   "source": [
    "#as a sanity check, one can note that 2*6+3*8+4*9+1*9=81=9*(24-15), the number of derangements (with multiplicity) of 4-tuples not in R."
   ]
  }
 ],
 "metadata": {
  "kernelspec": {
   "display_name": "SageMath 9.3",
   "language": "sage",
   "name": "sagemath"
  },
  "language_info": {
   "codemirror_mode": {
    "name": "ipython",
    "version": 3
   },
   "file_extension": ".py",
   "mimetype": "text/x-python",
   "name": "python",
   "nbconvert_exporter": "python",
   "pygments_lexer": "ipython3",
   "version": "3.7.10"
  }
 },
 "nbformat": 4,
 "nbformat_minor": 4
}
