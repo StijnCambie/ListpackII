{
 "cells": [
  {
   "cell_type": "code",
   "execution_count": 2,
   "metadata": {},
   "outputs": [
    {
     "name": "stdout",
     "output_type": "stream",
     "text": [
      "spanning tree:   {(4, 5), (1, 5), (0, 5), (2, 3), (2, 5)}\n",
      "remaining edges: {(1, 2), (1, 3), (1, 4), (0, 4), (0, 3), (2, 4)}\n",
      "Generating covers...\n"
     ]
    },
    {
     "data": {
      "application/vnd.jupyter.widget-view+json": {
       "model_id": "9daa9734d1a346d08bc891c94e0c3ac2",
       "version_major": 2,
       "version_minor": 0
      },
      "text/plain": [
       "  0%|          | 0/6 [00:00<?, ?it/s]"
      ]
     },
     "metadata": {},
     "output_type": "display_data"
    },
    {
     "data": {
      "application/vnd.jupyter.widget-view+json": {
       "model_id": "",
       "version_major": 2,
       "version_minor": 0
      },
      "text/plain": [
       "  0%|          | 0/1 [00:00<?, ?it/s]"
      ]
     },
     "metadata": {},
     "output_type": "display_data"
    },
    {
     "data": {
      "application/vnd.jupyter.widget-view+json": {
       "model_id": "",
       "version_major": 2,
       "version_minor": 0
      },
      "text/plain": [
       "  0%|          | 0/5 [00:00<?, ?it/s]"
      ]
     },
     "metadata": {},
     "output_type": "display_data"
    },
    {
     "data": {
      "application/vnd.jupyter.widget-view+json": {
       "model_id": "",
       "version_major": 2,
       "version_minor": 0
      },
      "text/plain": [
       "  0%|          | 0/43 [00:00<?, ?it/s]"
      ]
     },
     "metadata": {},
     "output_type": "display_data"
    },
    {
     "data": {
      "application/vnd.jupyter.widget-view+json": {
       "model_id": "",
       "version_major": 2,
       "version_minor": 0
      },
      "text/plain": [
       "  0%|          | 0/681 [00:00<?, ?it/s]"
      ]
     },
     "metadata": {},
     "output_type": "display_data"
    },
    {
     "data": {
      "application/vnd.jupyter.widget-view+json": {
       "model_id": "",
       "version_major": 2,
       "version_minor": 0
      },
      "text/plain": [
       "  0%|          | 0/14491 [00:00<?, ?it/s]"
      ]
     },
     "metadata": {},
     "output_type": "display_data"
    },
    {
     "data": {
      "application/vnd.jupyter.widget-view+json": {
       "model_id": "",
       "version_major": 2,
       "version_minor": 0
      },
      "text/plain": [
       "  0%|          | 0/336465 [00:00<?, ?it/s]"
      ]
     },
     "metadata": {},
     "output_type": "display_data"
    },
    {
     "data": {
      "application/vnd.jupyter.widget-view+json": {
       "model_id": "0a5268fb8a2648f9ad6455abb9d07e2f",
       "version_major": 2,
       "version_minor": 0
      },
      "text/plain": [
       "  0%|          | 0/7997683 [00:00<?, ?it/s]"
      ]
     },
     "metadata": {},
     "output_type": "display_data"
    },
    {
     "name": "stdout",
     "output_type": "stream",
     "text": [
      "By isomorphism, reduced 7997683 covers to 1013130\n",
      "Computing properties...\n"
     ]
    },
    {
     "data": {
      "application/vnd.jupyter.widget-view+json": {
       "model_id": "12784cbabe1f4d758bf5d4699dcbd7dc",
       "version_major": 2,
       "version_minor": 0
      },
      "text/plain": [
       "  0%|          | 0/1013130 [00:00<?, ?it/s]"
      ]
     },
     "metadata": {},
     "output_type": "display_data"
    },
    {
     "name": "stdout",
     "output_type": "stream",
     "text": [
      "G is 4-correspondence colorable\n",
      "G is fractionally 4-correspondence packable\n",
      "G is 4-correspondence packable\n"
     ]
    }
   ],
   "source": [
    "from tqdm.notebook import (tqdm)\n",
    "#The code below (identitical to part other file, and initially written by Ewan) has run for the following 3 cases.\n",
    "\n",
    "\n",
    "#check that A^+ is 4-packable\n",
    "G = graphs.CompleteBipartiteGraph(3,3)\n",
    "G.add_edge((1,2))\n",
    "G.add_edge((4,5))\n",
    "\n",
    "#output: By isomorphism, reduced 7997683 covers to 1013130, G is 4-correspondence packable\n",
    "\n",
    "\n",
    "\n",
    "\n",
    "\n",
    "q = 4\n",
    "n = G.order()\n",
    "H = Graph(q*n)\n",
    "\n",
    "# List of lists\n",
    "P = list(list(range(q*u, q*u+q)) for u in range(n))\n",
    "\n",
    "# Place a clique on each list\n",
    "for Lu in P:\n",
    "    H.add_clique(Lu)\n",
    "\n",
    "spanning_tree = set(next(G.spanning_trees()).edges(sort=False, labels=False))\n",
    "remaining_edges = set(G.edges(sort=False, labels=False)) - spanning_tree\n",
    "\n",
    "# Place 'parallel' matchings along the spanning tree\n",
    "for (u, v) in spanning_tree:\n",
    "    for i in range(q):\n",
    "        H.add_edge(q*u+i, q*v+i)\n",
    "\n",
    "print(f'spanning tree:   {spanning_tree}')\n",
    "print(f'remaining edges: {remaining_edges}')\n",
    "\n",
    "print('Generating covers...')\n",
    "covers = {H.canonical_label(P).copy(immutable=True)}\n",
    "\n",
    "reduce_by_P_iso_each_cover = True\n",
    "reduce_by_iso_at_end = True\n",
    "\n",
    "# For each remaining edge uv and all existing covers, put all possible matchings between L(u) and L(v)\n",
    "for u, v in tqdm(remaining_edges):\n",
    "    next_covers = set()\n",
    "    for H in tqdm(covers, leave=False):\n",
    "        for p in Permutations(range(q)):\n",
    "            next_H = H.copy(immutable=False)\n",
    "            for i in range(q):\n",
    "                next_H.add_edge(q*u+i,q*v+p[i])\n",
    "\n",
    "            if reduce_by_P_iso_each_cover:\n",
    "                # store a canonical representative of the isomorphism class of next_H\n",
    "                # under permutations that fix the lists\n",
    "                next_covers.add(next_H.canonical_label(P).copy(immutable=True))\n",
    "            else:\n",
    "                # store next_H itself\n",
    "                next_covers.add(next_H.copy(immutable=True))\n",
    "\n",
    "        # continue iterating\n",
    "        covers = next_covers\n",
    "\n",
    "if reduce_by_iso_at_end:\n",
    "    next_covers = covers\n",
    "\n",
    "    pre_len = len(next_covers)\n",
    "    covers_can = set()\n",
    "    covers = set()\n",
    "    for H in tqdm(next_covers):\n",
    "        Hcan = H.canonical_label().copy(immutable=True)\n",
    "        if Hcan not in covers_can:\n",
    "            covers_can.add(Hcan)\n",
    "            covers.add(H.copy(immutable=True))\n",
    "    print(f'By isomorphism, reduced {pre_len} covers to {len(covers)}')\n",
    "\n",
    "print('Computing properties...')\n",
    "max_ir = 0\n",
    "max_chif = 0\n",
    "max_chi = 0\n",
    "\n",
    "H_not_pack = []\n",
    "H_not_frac = []\n",
    "H_not_col = []\n",
    "\n",
    "for H in tqdm(covers):\n",
    "    chi  = H.chromatic_number()\n",
    "    chif = q if chi  == q else H.fractional_chromatic_number(check_bipartite=False, check_components=False)\n",
    "    ir   = q if chif == q else q*n/len(H.independent_set())\n",
    "\n",
    "    if ir > max_ir:\n",
    "        max_ir = ir\n",
    "    if chif > max_chif:\n",
    "        max_chif = chif\n",
    "    if chi > max_chi:\n",
    "        max_chi = chi\n",
    "\n",
    "    if chi > q:\n",
    "        H_not_pack.append(H)\n",
    "    if chif > q:\n",
    "        H_not_frac.append(H)\n",
    "    if ir > q:\n",
    "        H_not_col.append(H)\n",
    "\n",
    "print(f'G is {\"\" if max_ir   == q else \"not \"}{q}-correspondence colorable')\n",
    "print(f'G is {\"\" if max_chif == q else \"not \"}fractionally {q}-correspondence packable')\n",
    "print(f'G is {\"\" if max_chi  == q else \"not \"}{q}-correspondence packable')"
   ]
  },
  {
   "cell_type": "code",
   "execution_count": null,
   "metadata": {},
   "outputs": [],
   "source": []
  },
  {
   "cell_type": "code",
   "execution_count": null,
   "metadata": {},
   "outputs": [],
   "source": []
  },
  {
   "cell_type": "code",
   "execution_count": null,
   "metadata": {},
   "outputs": [],
   "source": []
  },
  {
   "cell_type": "code",
   "execution_count": null,
   "metadata": {},
   "outputs": [],
   "source": []
  },
  {
   "cell_type": "code",
   "execution_count": null,
   "metadata": {},
   "outputs": [],
   "source": []
  }
 ],
 "metadata": {
  "kernelspec": {
   "display_name": "SageMath 9.3",
   "language": "sage",
   "name": "sagemath"
  },
  "language_info": {
   "codemirror_mode": {
    "name": "ipython",
    "version": 3
   },
   "file_extension": ".py",
   "mimetype": "text/x-python",
   "name": "python",
   "nbconvert_exporter": "python",
   "pygments_lexer": "ipython3",
   "version": "3.7.10"
  }
 },
 "nbformat": 4,
 "nbformat_minor": 4
}
