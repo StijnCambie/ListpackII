{
 "cells": [
  {
   "cell_type": "code",
   "execution_count": 1,
   "metadata": {},
   "outputs": [
    {
     "name": "stdout",
     "output_type": "stream",
     "text": [
      "spanning tree:   {(4, 5), (1, 5), (0, 5), (2, 5), (3, 5)}\n",
      "remaining edges: {(1, 3), (0, 2), (1, 4), (0, 4), (0, 3), (2, 4)}\n",
      "Generating covers...\n"
     ]
    },
    {
     "data": {
      "application/vnd.jupyter.widget-view+json": {
       "model_id": "",
       "version_major": 2,
       "version_minor": 0
      },
      "text/plain": [
       "  0%|          | 0/1 [00:00<?, ?it/s]"
      ]
     },
     "metadata": {},
     "output_type": "display_data"
    },
    {
     "data": {
      "application/vnd.jupyter.widget-view+json": {
       "model_id": "",
       "version_major": 2,
       "version_minor": 0
      },
      "text/plain": [
       "  0%|          | 0/5 [00:00<?, ?it/s]"
      ]
     },
     "metadata": {},
     "output_type": "display_data"
    },
    {
     "data": {
      "application/vnd.jupyter.widget-view+json": {
       "model_id": "",
       "version_major": 2,
       "version_minor": 0
      },
      "text/plain": [
       "  0%|          | 0/43 [00:00<?, ?it/s]"
      ]
     },
     "metadata": {},
     "output_type": "display_data"
    },
    {
     "data": {
      "application/vnd.jupyter.widget-view+json": {
       "model_id": "",
       "version_major": 2,
       "version_minor": 0
      },
      "text/plain": [
       "  0%|          | 0/681 [00:00<?, ?it/s]"
      ]
     },
     "metadata": {},
     "output_type": "display_data"
    },
    {
     "data": {
      "application/vnd.jupyter.widget-view+json": {
       "model_id": "",
       "version_major": 2,
       "version_minor": 0
      },
      "text/plain": [
       "  0%|          | 0/14491 [00:00<?, ?it/s]"
      ]
     },
     "metadata": {},
     "output_type": "display_data"
    },
    {
     "data": {
      "application/vnd.jupyter.widget-view+json": {
       "model_id": "ea4b7e4333e74bf488ae5d511446fb63",
       "version_major": 2,
       "version_minor": 0
      },
      "text/plain": [
       "  0%|          | 0/336465 [00:00<?, ?it/s]"
      ]
     },
     "metadata": {},
     "output_type": "display_data"
    },
    {
     "name": "stdout",
     "output_type": "stream",
     "text": [
      "By isomorphism, reduced 336465 covers to 169133\n"
     ]
    }
   ],
   "source": [
    "from tqdm.notebook import (tqdm)\n",
    "\n",
    "#Check that G_{6,2,3}^+ is 4-packable\n",
    "G=graphs.CompleteGraph(6).copy()\n",
    "G.delete_edges(graphs.PathGraph(5).edges())\n",
    "\n",
    "\n",
    "q = 4\n",
    "n = G.order()\n",
    "H = Graph(q*n)\n",
    "\n",
    "# List of lists\n",
    "P = list(list(range(q*u, q*u+q)) for u in range(n))\n",
    "\n",
    "# Place a clique on each list\n",
    "for Lu in P:\n",
    "    H.add_clique(Lu)\n",
    "\n",
    "spanning_tree = set(next(G.spanning_trees()).edges(sort=False, labels=False))\n",
    "remaining_edges = set(G.edges(sort=False, labels=False)) - spanning_tree\n",
    "\n",
    "# Place 'parallel' matchings along the spanning tree\n",
    "for (u, v) in spanning_tree:\n",
    "    for i in range(q):\n",
    "        H.add_edge(q*u+i, q*v+i)\n",
    "\n",
    "print(f'spanning tree:   {spanning_tree}')\n",
    "print(f'remaining edges: {remaining_edges}')\n",
    "\n",
    "print('Generating covers...')\n",
    "covers = {H.canonical_label(P).copy(immutable=True)}\n",
    "\n",
    "reduce_by_P_iso_each_cover = True\n",
    "reduce_by_iso_at_end = True\n",
    "\n",
    "Redges=list(remaining_edges)\n",
    "# For each remaining edge uv and all existing covers, put all possible matchings between L(u) and L(v)\n",
    "for u, v in Redges[0:5]:\n",
    "    next_covers = set()\n",
    "    for H in tqdm(covers, leave=False):\n",
    "        for p in Permutations(range(q)):\n",
    "            next_H = H.copy(immutable=False)\n",
    "            for i in range(q):\n",
    "                next_H.add_edge(q*u+i,q*v+p[i])\n",
    "\n",
    "            if reduce_by_P_iso_each_cover:\n",
    "                # store a canonical representative of the isomorphism class of next_H\n",
    "                # under permutations that fix the lists\n",
    "                next_covers.add(next_H.canonical_label(P).copy(immutable=True))\n",
    "            else:\n",
    "                # store next_H itself\n",
    "                next_covers.add(next_H.copy(immutable=True))\n",
    "\n",
    "        # continue iterating\n",
    "        covers = next_covers\n",
    "\n",
    "if reduce_by_iso_at_end:\n",
    "    next_covers = covers\n",
    "\n",
    "    pre_len = len(next_covers)\n",
    "    covers_can = set()\n",
    "    covers = set()\n",
    "    for H in tqdm(next_covers):\n",
    "        Hcan = H.canonical_label().copy(immutable=True)\n",
    "        if Hcan not in covers_can:\n",
    "            covers_can.add(Hcan)\n",
    "            covers.add(H.copy(immutable=True))\n",
    "    print(f'By isomorphism, reduced {pre_len} covers to {len(covers)}')"
   ]
  },
  {
   "cell_type": "code",
   "execution_count": 15,
   "metadata": {},
   "outputs": [
    {
     "data": {
      "text/plain": [
       "169133"
      ]
     },
     "execution_count": 15,
     "metadata": {},
     "output_type": "execute_result"
    }
   ],
   "source": [
    "len(covers)"
   ]
  },
  {
   "cell_type": "code",
   "execution_count": 16,
   "metadata": {},
   "outputs": [
    {
     "data": {
      "application/vnd.jupyter.widget-view+json": {
       "model_id": "",
       "version_major": 2,
       "version_minor": 0
      },
      "text/plain": [
       "  0%|          | 0/169133 [00:00<?, ?it/s]"
      ]
     },
     "metadata": {},
     "output_type": "display_data"
    },
    {
     "name": "stdout",
     "output_type": "stream",
     "text": [
      "always extendable\n"
     ]
    }
   ],
   "source": [
    "(u,v)==Redges[5];\n",
    "\n",
    "for H in tqdm(covers, leave=False):\n",
    "    for p in Permutations(range(q)):\n",
    "        next_H = H.copy(immutable=False)\n",
    "        for i in range(q):\n",
    "            next_H.add_edge(q*u+i,q*v+p[i])\n",
    "        chi=next_H.chromatic_number()\n",
    "        if chi!=4:\n",
    "            print(\"warning\")\n",
    "            print(chi)\n",
    "            next_H.show()\n",
    "            specialH=next_H\n",
    "            break\n",
    "print(\"always extendable\")"
   ]
  },
  {
   "cell_type": "code",
   "execution_count": null,
   "metadata": {},
   "outputs": [],
   "source": []
  },
  {
   "cell_type": "code",
   "execution_count": null,
   "metadata": {},
   "outputs": [],
   "source": []
  },
  {
   "cell_type": "code",
   "execution_count": null,
   "metadata": {},
   "outputs": [],
   "source": []
  },
  {
   "cell_type": "code",
   "execution_count": null,
   "metadata": {},
   "outputs": [],
   "source": []
  },
  {
   "cell_type": "code",
   "execution_count": null,
   "metadata": {},
   "outputs": [],
   "source": []
  },
  {
   "cell_type": "code",
   "execution_count": null,
   "metadata": {},
   "outputs": [],
   "source": []
  }
 ],
 "metadata": {
  "kernelspec": {
   "display_name": "SageMath 9.3",
   "language": "sage",
   "name": "sagemath"
  },
  "language_info": {
   "codemirror_mode": {
    "name": "ipython",
    "version": 3
   },
   "file_extension": ".py",
   "mimetype": "text/x-python",
   "name": "python",
   "nbconvert_exporter": "python",
   "pygments_lexer": "ipython3",
   "version": "3.7.10"
  }
 },
 "nbformat": 4,
 "nbformat_minor": 4
}
