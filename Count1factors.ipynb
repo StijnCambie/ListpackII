{
 "cells": [
  {
   "cell_type": "code",
   "execution_count": 68,
   "metadata": {},
   "outputs": [],
   "source": [
    "#In this file, we compute the minimum number of common derangements of 2,3 or 4 permutations of [8].\n",
    "\n"
   ]
  },
  {
   "cell_type": "code",
   "execution_count": null,
   "metadata": {},
   "outputs": [],
   "source": [
    "#for 4 permutations\n",
    "#The edge-mininimal graphs either have at most 34 edges, or 35 with 2 non-adjacent degree-7 vertices, \n",
    "#or 36 and 2 pairs of pairwise non-adjacent degree-6 vertices.\n",
    "#In other cases, there are 2 vertices with degree at least 5 which are adjacent (and # p.m. cannot decrease with additional edges)"
   ]
  },
  {
   "cell_type": "code",
   "execution_count": 74,
   "metadata": {},
   "outputs": [],
   "source": [
    "n=16;\n",
    "L=[]\n",
    "for g in graphs.nauty_geng(' -c ' +str(n)+' 32:34 -b -d4 -D6'):\n",
    "    L.append(g)\n",
    "    \n",
    "    \n",
    "    "
   ]
  },
  {
   "cell_type": "code",
   "execution_count": 75,
   "metadata": {},
   "outputs": [
    {
     "name": "stdout",
     "output_type": "stream",
     "text": [
      "248\n",
      "32\n"
     ]
    }
   ],
   "source": [
    "X=[]\n",
    "for g in L:\n",
    "    X.append(g.matching_polynomial()[0])\n",
    "print(min(X));\n",
    "for g in L:\n",
    "    if g.matching_polynomial()[0]==min(X):\n",
    "        print(g.size())"
   ]
  },
  {
   "cell_type": "code",
   "execution_count": 54,
   "metadata": {},
   "outputs": [
    {
     "data": {
      "text/plain": [
       "576"
      ]
     },
     "execution_count": 54,
     "metadata": {},
     "output_type": "execute_result"
    }
   ],
   "source": [
    "max(X)"
   ]
  },
  {
   "cell_type": "code",
   "execution_count": 76,
   "metadata": {},
   "outputs": [
    {
     "data": {
      "text/plain": [
       "336"
      ]
     },
     "execution_count": 76,
     "metadata": {},
     "output_type": "execute_result"
    }
   ],
   "source": [
    "#35 edges with 2 non-adjacent degree-7 vertices: after deleting the 2 degree-7-vertices, we have a cubic graph on 14 vertices\n",
    "#and the number of p.m's (perfect matchings) in the initial graph corresponds with the number of almost-perfect matchings, the ones with 6 edges\n",
    "#in the cubic graph\n",
    "n=14;\n",
    "L=[]\n",
    "for g in graphs.nauty_geng(' -c ' +str(n)+' 21:21 -b -d3 -D3'):\n",
    "    L.append(g)\n",
    "len(L)\n",
    "X=[]\n",
    "for g in L:\n",
    "    X.append(g.matching_polynomial()[2])\n",
    "min(X)"
   ]
  },
  {
   "cell_type": "code",
   "execution_count": 79,
   "metadata": {},
   "outputs": [
    {
     "data": {
      "text/plain": [
       "420"
      ]
     },
     "execution_count": 79,
     "metadata": {},
     "output_type": "execute_result"
    }
   ],
   "source": [
    "#in the case with 36 edges, after deleting the degree-6-vertices, one gets a 2-factor on 12 vertices \n",
    "#number of p.m.'s is 4 times the number of matchings of size 4 in the 2-factor (at least 420)\n",
    "n=12;\n",
    "L=[]\n",
    "for g in graphs.nauty_geng(' -c ' +str(n)+' -b -d2 -D2'):\n",
    "    L.append(g)\n",
    "len(L)\n",
    "X=[]\n",
    "for g in L:\n",
    "    X.append(4*g.matching_polynomial()[4])\n",
    "min(X)"
   ]
  },
  {
   "cell_type": "code",
   "execution_count": null,
   "metadata": {},
   "outputs": [],
   "source": []
  },
  {
   "cell_type": "code",
   "execution_count": 80,
   "metadata": {},
   "outputs": [],
   "source": [
    "#similar for edge-minimal graphs with degree at least 5\n",
    "n=16;\n",
    "L=[]\n",
    "for g in graphs.nauty_geng(' -c ' +str(n)+' 40:40 -b -d5 -D7'):\n",
    "    L.append(g)\n"
   ]
  },
  {
   "cell_type": "code",
   "execution_count": 81,
   "metadata": {},
   "outputs": [
    {
     "data": {
      "text/plain": [
       "1249"
      ]
     },
     "execution_count": 81,
     "metadata": {},
     "output_type": "execute_result"
    }
   ],
   "source": [
    "X=[]\n",
    "for g in L:\n",
    "    X.append(g.matching_polynomial()[0])\n",
    "min(X)"
   ]
  },
  {
   "cell_type": "code",
   "execution_count": 82,
   "metadata": {},
   "outputs": [
    {
     "data": {
      "text/plain": [
       "1448"
      ]
     },
     "execution_count": 82,
     "metadata": {},
     "output_type": "execute_result"
    }
   ],
   "source": [
    "n=16;\n",
    "L=[]\n",
    "for g in graphs.nauty_geng(' -c ' +str(n)+' 41:41 -b -d5 -D6'):\n",
    "    L.append(g)\n",
    "X=[]\n",
    "for g in L:\n",
    "    X.append(g.matching_polynomial()[0])\n",
    "min(X)"
   ]
  },
  {
   "cell_type": "code",
   "execution_count": 83,
   "metadata": {},
   "outputs": [
    {
     "data": {
      "text/plain": [
       "1596"
      ]
     },
     "execution_count": 83,
     "metadata": {},
     "output_type": "execute_result"
    }
   ],
   "source": [
    "n=14;\n",
    "L=[]\n",
    "for g in graphs.nauty_geng(' -c ' +str(n)+' -b -d4 -D4'):\n",
    "    L.append(g)\n",
    "X=[]\n",
    "for g in L:\n",
    "    X.append(g.matching_polynomial()[2])\n",
    "min(X)"
   ]
  },
  {
   "cell_type": "code",
   "execution_count": null,
   "metadata": {},
   "outputs": [],
   "source": []
  },
  {
   "cell_type": "code",
   "execution_count": 84,
   "metadata": {},
   "outputs": [
    {
     "data": {
      "text/plain": [
       "4738"
      ]
     },
     "execution_count": 84,
     "metadata": {},
     "output_type": "execute_result"
    }
   ],
   "source": [
    "#for #derangements with 2 permutations of [8]\n",
    "\n",
    "n=16;\n",
    "L=[]\n",
    "for g in graphs.nauty_geng(' -c ' +str(n)+' 48:48 -b -d6 -D7'):\n",
    "    L.append(g)\n",
    "len(L)\n",
    "X=[]\n",
    "for g in L:\n",
    "    X.append(g.matching_polynomial()[0])\n",
    "min(X)"
   ]
  },
  {
   "cell_type": "code",
   "execution_count": 87,
   "metadata": {},
   "outputs": [
    {
     "name": "stdout",
     "output_type": "stream",
     "text": [
      "5400\n",
      "5397\n",
      "5398\n",
      "5404\n"
     ]
    }
   ],
   "source": [
    "n=14;\n",
    "L=[]\n",
    "for g in graphs.nauty_geng(' -c ' +str(n)+' 35:35 -b -d5 -D5'):\n",
    "    L.append(g)\n",
    "len(L)\n",
    "for g in L:\n",
    "    print(g.matching_polynomial()[2])"
   ]
  },
  {
   "cell_type": "code",
   "execution_count": 88,
   "metadata": {},
   "outputs": [
    {
     "name": "stdout",
     "output_type": "stream",
     "text": [
      "14833\n"
     ]
    }
   ],
   "source": [
    "#another verification for the well-known number of derangements of [8]\n",
    "n=16\n",
    "for g in graphs.nauty_geng(' -c ' +str(n)+' -b -d7 -D7'):\n",
    "    print(g.matching_polynomial()[0])"
   ]
  },
  {
   "cell_type": "code",
   "execution_count": null,
   "metadata": {},
   "outputs": [],
   "source": []
  }
 ],
 "metadata": {
  "kernelspec": {
   "display_name": "SageMath 9.3",
   "language": "sage",
   "name": "sagemath"
  },
  "language_info": {
   "codemirror_mode": {
    "name": "ipython",
    "version": 3
   },
   "file_extension": ".py",
   "mimetype": "text/x-python",
   "name": "python",
   "nbconvert_exporter": "python",
   "pygments_lexer": "ipython3",
   "version": "3.7.10"
  }
 },
 "nbformat": 4,
 "nbformat_minor": 4
}
